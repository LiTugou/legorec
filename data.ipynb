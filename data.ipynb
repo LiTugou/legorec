{
 "cells": [
  {
   "cell_type": "code",
   "execution_count": 2,
   "id": "ad48cc26-2d72-4e8c-b704-179a207bf9e1",
   "metadata": {},
   "outputs": [],
   "source": [
    "import polars as pl\n",
    "# from utils.tfrecords import pl2tf"
   ]
  },
  {
   "cell_type": "code",
   "execution_count": 3,
   "id": "669f19f2-cbd3-4442-bdea-a4e8884df5f4",
   "metadata": {},
   "outputs": [],
   "source": [
    "fd=pl.read_csv_batched(\"./part-00000-f8f702fe-fc48-48c9-9326-0b7ca76ecd77-c000.csv\",batch_size=3024000)"
   ]
  },
  {
   "cell_type": "code",
   "execution_count": 4,
   "id": "9ff395d6-7402-45b0-a496-d725628c0255",
   "metadata": {},
   "outputs": [],
   "source": [
    "df=fd.next_batches(1)[0]"
   ]
  },
  {
   "cell_type": "code",
   "execution_count": 15,
   "id": "8a516d01-6bee-41cd-99e8-b8dac4a067a8",
   "metadata": {},
   "outputs": [
    {
     "data": {
      "text/plain": [
       "0.000783927970314213"
      ]
     },
     "execution_count": 15,
     "metadata": {},
     "output_type": "execute_result"
    }
   ],
   "source": [
    "df[\"pay_flag\"].sum()/df[\"finalClickFlag\"].sum()"
   ]
  },
  {
   "cell_type": "code",
   "execution_count": 14,
   "id": "6d7f363f-5ece-4997-a755-d793c170fa15",
   "metadata": {},
   "outputs": [
    {
     "data": {
      "text/plain": [
       "0.4931805680669001"
      ]
     },
     "execution_count": 14,
     "metadata": {},
     "output_type": "execute_result"
    }
   ],
   "source": [
    "df[\"finalClickFlag\"].sum()/df[\"finalClickFlag\"].shape[0]"
   ]
  },
  {
   "cell_type": "code",
   "execution_count": 7,
   "id": "9ccea41f-ad08-4036-83a1-41cc0fa61ea7",
   "metadata": {
    "tags": []
   },
   "outputs": [],
   "source": [
    "viptypes_map={\n",
    "    \"[]\":0,\n",
    "    \"[MOVIES]\":1,\n",
    "    \"[KIDS]\":2,\n",
    "    '[MOVIES, KIDS]':3\n",
    "}\n",
    "asrgender_map={\n",
    "    \"unknown\":0,\n",
    "    \"child\":1,\n",
    "    \"female\":2,\n",
    "    \"male\":3\n",
    "}\n",
    "respaytype_map={\n",
    "    \"FREE\":1,\n",
    "    \"PAY\":2\n",
    "}\n",
    "paytypematchflag_map={\n",
    "    False:0,\n",
    "    True:1\n",
    "}\n",
    "selfFlag_map={\n",
    "    False:0,\n",
    "    True:1\n",
    "}\n",
    "category_map={\n",
    "    \"儿童\":1,\n",
    "    \"电影\":2,\n",
    "    \"电视剧\":3,\n",
    "    \"动漫\":4,\n",
    "    \"音乐\":5,\n",
    "    \"综艺\":6,\n",
    "    \"电子竞技\":7,\n",
    "    \"教育\":8,\n",
    "    \"纪录片\":9\n",
    "}\n",
    "viptypeuserpaycnt_split=[0,1,2,3]\n",
    "viptypeduetime_split=[-180,-90,-30,-14,-7,-3,1,7,14,30,90,180]\n",
    "# categoryusercnt_split=[0,2,5,10,17,27,43,74]\n",
    "# ipresusercnt=[0, 1, 2, 3, 4, 6, 9, 12, 17, 24, 39]\n",
    "def interval2id(col,split):\n",
    "    evalstr=\"pl\"\n",
    "    for i in range(len(split)):\n",
    "        evalstr+=f\".when(pl.col('{col}')<={split[i]}).then(pl.lit({i}))\"\n",
    "    evalstr+=f\".otherwise({i+1})\"\n",
    "    return eval(evalstr)\n"
   ]
  },
  {
   "cell_type": "markdown",
   "id": "2f583c6c-1c48-4598-bc83-a6f04417aa2c",
   "metadata": {},
   "source": [
    "## 分箱"
   ]
  },
  {
   "cell_type": "code",
   "execution_count": 8,
   "id": "a1898ce7-5f67-4034-ab1b-3a362ba91f39",
   "metadata": {},
   "outputs": [],
   "source": [
    "split_tab={}\n",
    "breakpoints={}\n"
   ]
  },
  {
   "cell_type": "markdown",
   "id": "56a81037-01f6-4b20-9797-9f6453557369",
   "metadata": {},
   "source": [
    "### cnt分箱"
   ]
  },
  {
   "cell_type": "code",
   "execution_count": 9,
   "id": "de635449-750d-4c4f-80b7-168b74c310a4",
   "metadata": {
    "tags": []
   },
   "outputs": [],
   "source": [
    "cutlist=[(0.01,100),(0.02,50),(0.03,33),(0.05,20),(0.1,10)]\n",
    "\n",
    "cntcol=list(filter(lambda x:\"cnt\" in x,df.columns))\n",
    "cnt_split_expr={}\n",
    "for col in cntcol:\n",
    "    for cutset in cutlist:\n",
    "        breakpoint_df=df[col].qcut([cutset[0]*i for i in range(1,cutset[1])],allow_duplicates=True,include_breaks=True) \\\n",
    "                        .struct.field('break_point') \\\n",
    "                        .unique() \\\n",
    "                        .sort()[:-1]\n",
    "        if len(breakpoint_df)<20:\n",
    "            ans=list(breakpoint_df.cast(pl.Int32))\n",
    "            split_tab[col]=ans\n",
    "            # print(list(cutdf[\"break_point\"].unique_counts()))\n",
    "            # print(ans)\n",
    "            expr=interval2id(col,split_tab[col]).alias(col)\n",
    "            breakpoints[col]=ans\n",
    "            cnt_split_expr[col]=expr\n",
    "            # cnt_split_expr.append(expr)\n",
    "            break\n"
   ]
  },
  {
   "cell_type": "markdown",
   "id": "040f94c7-15ac-4349-ab7b-bfb8db8b5910",
   "metadata": {},
   "source": [
    "### other"
   ]
  },
  {
   "cell_type": "code",
   "execution_count": 10,
   "id": "8010ba82-d5f7-4764-87bd-42fc335d67cd",
   "metadata": {
    "tags": []
   },
   "outputs": [],
   "source": [
    "cutlist=[(0.001,1000),(0.005,200),(0.01,100),(0.02,50),(0.03,33),(0.05,20),(0.1,10)]\n",
    "\n",
    "othercol=df.select(pl.col(pl.Float64)).select(pl.exclude(\"^.*cnt.*$\")).columns\n",
    "other_split_expr={}\n",
    "for col in othercol:\n",
    "    for cutset in cutlist:\n",
    "        breakpoint_df=df[col].qcut([cutset[0]*i for i in range(1,cutset[1])],allow_duplicates=True,include_breaks=True) \\\n",
    "                        .struct.field('break_point') \\\n",
    "                        .unique() \\\n",
    "                        .sort()[:-1]\n",
    "        if len(breakpoint_df)<50:\n",
    "            ans=list(filter(lambda x:x is not None,list(breakpoint_df)))\n",
    "            if ans[-1]<1:\n",
    "                for i in range(len(ans)):\n",
    "                    if ans[i]>0.99:\n",
    "                        break\n",
    "                ans=ans[:i+1]\n",
    "\n",
    "            split_tab[col]=ans\n",
    "            # print(list(cutdf[\"break_point\"].unique_counts()))\n",
    "            # print(ans)\n",
    "            expr=interval2id(col,split_tab[col]).alias(col)\n",
    "            breakpoints[col]=ans\n",
    "            other_split_expr[col]=expr\n",
    "            # cnt_split_expr.append(expr)\n",
    "            break\n"
   ]
  },
  {
   "cell_type": "code",
   "execution_count": 11,
   "id": "f57d8ecb-cb88-4fea-a9b9-908e8bc36417",
   "metadata": {},
   "outputs": [],
   "source": [
    "exprlist=[\n",
    "        pl.col(\"viptypes\").map_dict(viptypes_map,default=0,return_dtype=pl.Int8),\n",
    "        pl.col(\"category\").map_dict(category_map,default=0,return_dtype=pl.Int8),\n",
    "        pl.col(\"asrgender\").map_dict(asrgender_map,default=0,return_dtype=pl.Int8),\n",
    "        pl.col(\"respaytype\").map_dict(respaytype_map,default=0,return_dtype=pl.Int8),\n",
    "        pl.col(\"paytypematchflag\").map_dict(paytypematchflag_map,default=0,return_dtype=pl.Int8),\n",
    "        pl.col(\"selfFlag\").map_dict(selfFlag_map,default=0,return_dtype=pl.Int8),\n",
    "        pl.when(pl.col(\"usedaygap\")<=14).then(pl.col(\"usedaygap\")).otherwise(pl.lit(14)),\n",
    "        interval2id(\"viptypeduetime\",viptypeduetime_split).alias(\"viptypeduetime\"),\n",
    "        pl.when((pl.col(\"uid\") != 0) & (pl.col(\"uid\")!=-1))\n",
    "            .then(pl.lit(1))\n",
    "            .otherwise(pl.lit(0))\n",
    "            .alias(\"login\")\n",
    "]\n",
    "exprlist+=list(other_split_expr.values())+list(cnt_split_expr.values())\n"
   ]
  },
  {
   "cell_type": "code",
   "execution_count": 14,
   "id": "c74292c9-93af-4f45-9efb-e5ecb506e45e",
   "metadata": {},
   "outputs": [],
   "source": [
    "ld=pl.scan_csv(\"./part-00000-f8f702fe-fc48-48c9-9326-0b7ca76ecd77-c000.csv\")\n",
    "ld.select(\n",
    "    pl.exclude([\"initialid\",\"requestid\",\"resid\",\"maxClickPosition\"])\n",
    ").with_columns(\n",
    "    exprlist\n",
    ").sink_csv(\"train.csv\")"
   ]
  },
  {
   "cell_type": "code",
   "execution_count": 15,
   "id": "2cfad91c-8661-418b-a43b-7357aecbe414",
   "metadata": {},
   "outputs": [],
   "source": [
    "# ctr=[\"normslotmatchscore\",\"normtrunkmatchscore\",\"maxvipctr\",\"maxallctr\",\"slotQueryCtrSum\",\"rawQueryCtrSum\",\"maxAllSlotQueryCtr\",\"maxAllRawQueryCtr\"]\n",
    "# rate=[\"metarating\",\"doubanrating\"]\n",
    "# ratio=[\"metaclickscore\",\"metaclickratio\",\"metaplayratio\",\"metaplaylength\",\"realtimescore\"]\n",
    "# tmp.select(pl.col(pl.Float64)).describe()"
   ]
  },
  {
   "cell_type": "code",
   "execution_count": 16,
   "id": "83593cad-be23-4ca3-b7ef-7d72fe324fa5",
   "metadata": {},
   "outputs": [],
   "source": [
    "import json\n",
    "feature_config_path=\"./newconf/feature_config.json\"\n",
    "with open(feature_config_path,\"r\") as f:\n",
    "    conf=json.load(f)"
   ]
  },
  {
   "cell_type": "code",
   "execution_count": 17,
   "id": "19b3b4f4-c9ec-4768-b238-fe645143b4e4",
   "metadata": {},
   "outputs": [],
   "source": [
    "for idx,(col,val) in enumerate(split_tab.items()):\n",
    "    conf[col]={\n",
    "        \"default_value\": 0,\n",
    "        \"type\": \"bucketid\",\n",
    "        \"embedding_dim\": 16,\n",
    "        \"field\": \"other\",\n",
    "        \"field_name\": f\"field{12+idx}\",\n",
    "        \"hash_bucket\": len(val)+1\n",
    "    }\n",
    "\n",
    "with open(feature_config_path,\"w\") as f:\n",
    "    json.dump(conf,f,indent=2)"
   ]
  },
  {
   "cell_type": "markdown",
   "id": "564f6293-d7bc-4519-b17c-b2665e17db7c",
   "metadata": {},
   "source": [
    "## 划分数据,转成tfrecord"
   ]
  },
  {
   "cell_type": "code",
   "execution_count": 18,
   "id": "9be2a998-f003-4565-bf9e-84f68e7294ac",
   "metadata": {},
   "outputs": [
    {
     "name": "stderr",
     "output_type": "stream",
     "text": [
      "2023-10-03 22:37:57.857996: I tensorflow/core/platform/cpu_feature_guard.cc:193] This TensorFlow binary is optimized with oneAPI Deep Neural Network Library (oneDNN) to use the following CPU instructions in performance-critical operations:  SSE4.1 SSE4.2 AVX AVX2 FMA\n",
      "To enable them in other operations, rebuild TensorFlow with the appropriate compiler flags.\n"
     ]
    }
   ],
   "source": [
    "from utils.tfrecords import pl2tf"
   ]
  },
  {
   "cell_type": "code",
   "execution_count": 19,
   "id": "18340043-6b50-4dd9-b043-8a7d2cc51795",
   "metadata": {},
   "outputs": [],
   "source": [
    "import polars as pl\n",
    "\n",
    "fd=pl.read_csv_batched(\"train.csv\",batch_size=1048000)"
   ]
  },
  {
   "cell_type": "code",
   "execution_count": 20,
   "id": "df2dfac9-f812-48a4-b817-98ab1a5cb48a",
   "metadata": {
    "tags": []
   },
   "outputs": [],
   "source": [
    "for i in range(1000):\n",
    "    try:\n",
    "        subcsv=subdf=fd.next_batches(1)[0]\n",
    "        subcsv=subcsv.sample(fraction=1, shuffle=True)\n",
    "        train_size=int(len(subcsv)*0.7)\n",
    "        val_size=int(len(subcsv)*0.15)\n",
    "        test_size=len(subcsv)-val_size-train_size\n",
    "        traincsv=subcsv.head(train_size)\n",
    "        tmp=subcsv.tail(len(subcsv)-train_size)\n",
    "        valcsv=tmp.head(val_size)\n",
    "        testcsv=tmp.tail(test_size)\n",
    "        traincsv.write_csv(f\"./data/train/{i:02}.csv\")\n",
    "        valcsv.write_csv(f\"./data/val/{i:02}.csv\")\n",
    "        testcsv.write_csv(f\"./data/test/{i:02}.csv\")\n",
    "    except:\n",
    "        break"
   ]
  },
  {
   "cell_type": "code",
   "execution_count": 16,
   "id": "4a7e3076-46fc-456b-b372-2e90b852eb9b",
   "metadata": {},
   "outputs": [
    {
     "data": {
      "text/html": [
       "<div><style>\n",
       ".dataframe > thead > tr > th,\n",
       ".dataframe > tbody > tr > td {\n",
       "  text-align: right;\n",
       "  white-space: pre-wrap;\n",
       "}\n",
       "</style>\n",
       "<small>shape: (1, 56)</small><table border=\"1\" class=\"dataframe\"><thead><tr><th>initialid</th><th>requestid</th><th>appid</th><th>uid</th><th>viptypes</th><th>asrgender</th><th>position</th><th>resid</th><th>category</th><th>respaytype</th><th>selfFlag</th><th>normslotmatchscore</th><th>trunkmatchscore</th><th>normtrunkmatchscore</th><th>maxvipctr</th><th>maxallctr</th><th>metarating</th><th>doubanrating</th><th>metaclickscore</th><th>metaclickratio</th><th>metaplayratio</th><th>metaplaylength</th><th>realtimescore</th><th>relativerealtime</th><th>popularityscore</th><th>queryvideopvcgmatchscore</th><th>paytypematchflag</th><th>viptypeuserpaycnt</th><th>viptypeuserpayfee</th><th>viptypeduetime</th><th>ipresusercnt</th><th>categoryusercnt</th><th>cpusercnt</th><th>respaycount</th><th>queryCtrConfidenceScore</th><th>slotCtrConfidenceScore</th><th>slotQueryCtrSum</th><th>rawQueryCtrSum</th><th>maxAllSlotQueryCtr</th><th>maxAllRawQueryCtr</th><th>requestcnt</th><th>clickcnt</th><th>playcnt</th><th>playdurationsum</th><th>usedaygap</th><th>payclickcnt</th><th>payplaycnt</th><th>payplaydurationsum</th><th>payfeesum</th><th>payfeeavg</th><th>payfeecnt</th><th>paysinglecnt</th><th>payvipcnt</th><th>finalClickFlag</th><th>pay_flag</th><th>maxClickPosition</th></tr><tr><td>str</td><td>str</td><td>i64</td><td>i64</td><td>str</td><td>str</td><td>i64</td><td>i64</td><td>str</td><td>str</td><td>bool</td><td>f64</td><td>f64</td><td>f64</td><td>f64</td><td>f64</td><td>f64</td><td>f64</td><td>f64</td><td>f64</td><td>f64</td><td>f64</td><td>f64</td><td>f64</td><td>f64</td><td>f64</td><td>bool</td><td>i64</td><td>f64</td><td>i64</td><td>i64</td><td>i64</td><td>i64</td><td>f64</td><td>f64</td><td>f64</td><td>f64</td><td>f64</td><td>f64</td><td>f64</td><td>i64</td><td>i64</td><td>i64</td><td>f64</td><td>i64</td><td>i64</td><td>i64</td><td>f64</td><td>f64</td><td>f64</td><td>i64</td><td>i64</td><td>i64</td><td>i64</td><td>i64</td><td>i64</td></tr></thead><tbody><tr><td>&quot;1008dc65220748…</td><td>&quot;1008dc65220748…</td><td>648470631775472640</td><td>2444780292</td><td>&quot;[]&quot;</td><td>&quot;female&quot;</td><td>0</td><td>655832</td><td>&quot;音乐&quot;</td><td>&quot;PAY&quot;</td><td>true</td><td>0.923841</td><td>7.050016</td><td>0.999986</td><td>0.0</td><td>0.4813</td><td>0.0</td><td>0.0</td><td>0.351177</td><td>0.09325</td><td>0.073761</td><td>860.336957</td><td>0.88898</td><td>53.0</td><td>0.796582</td><td>0.970575</td><td>false</td><td>0</td><td>0.0</td><td>0</td><td>0</td><td>0</td><td>0</td><td>42.0</td><td>0.0</td><td>1.0884</td><td>0.69</td><td>0.0</td><td>0.4813</td><td>0.0</td><td>0</td><td>0</td><td>0</td><td>0.0</td><td>0</td><td>0</td><td>0</td><td>0.0</td><td>0.0</td><td>0.0</td><td>0</td><td>0</td><td>0</td><td>1</td><td>0</td><td>0</td></tr></tbody></table></div>"
      ],
      "text/plain": [
       "shape: (1, 56)\n",
       "┌───────────┬───────────┬───────────┬───────────┬───┬───────────┬───────────┬──────────┬───────────┐\n",
       "│ initialid ┆ requestid ┆ appid     ┆ uid       ┆ … ┆ payvipcnt ┆ finalClic ┆ pay_flag ┆ maxClickP │\n",
       "│ ---       ┆ ---       ┆ ---       ┆ ---       ┆   ┆ ---       ┆ kFlag     ┆ ---      ┆ osition   │\n",
       "│ str       ┆ str       ┆ i64       ┆ i64       ┆   ┆ i64       ┆ ---       ┆ i64      ┆ ---       │\n",
       "│           ┆           ┆           ┆           ┆   ┆           ┆ i64       ┆          ┆ i64       │\n",
       "╞═══════════╪═══════════╪═══════════╪═══════════╪═══╪═══════════╪═══════════╪══════════╪═══════════╡\n",
       "│ 1008dc652 ┆ 1008dc652 ┆ 648470631 ┆ 244478029 ┆ … ┆ 0         ┆ 1         ┆ 0        ┆ 0         │\n",
       "│ 207482788 ┆ 207482788 ┆ 775472640 ┆ 2         ┆   ┆           ┆           ┆          ┆           │\n",
       "│ 56033c26f ┆ 56033c26f ┆           ┆           ┆   ┆           ┆           ┆          ┆           │\n",
       "│ 15876     ┆ 15876     ┆           ┆           ┆   ┆           ┆           ┆          ┆           │\n",
       "└───────────┴───────────┴───────────┴───────────┴───┴───────────┴───────────┴──────────┴───────────┘"
      ]
     },
     "execution_count": 16,
     "metadata": {},
     "output_type": "execute_result"
    }
   ],
   "source": [
    "df.head(1)"
   ]
  },
  {
   "cell_type": "code",
   "execution_count": 36,
   "id": "68fcf580-eb76-40bf-a587-8605549430cf",
   "metadata": {},
   "outputs": [],
   "source": [
    "import glob\n",
    "train_list=glob.glob(\"./data/train/*.csv\")\n",
    "tmp=pl.read_csv(train_list[0])\n",
    "_pl2tf(tmp,'./data/train/04.tf')"
   ]
  },
  {
   "cell_type": "code",
   "execution_count": 55,
   "id": "365cfc0c-3a46-4c07-82a5-9d7d481a66eb",
   "metadata": {
    "collapsed": true,
    "jupyter": {
     "outputs_hidden": true
    },
    "tags": []
   },
   "outputs": [
    {
     "ename": "ValueError",
     "evalue": "in user code:\n\n    File \"/tmp/ipykernel_417572/257636309.py\", line 21, in parse_csv  *\n        columns = tf.io.decode_csv(value, record_defaults=self.record_defaults)\n\n    ValueError: Attr 'OUT_TYPE' of 'DecodeCSV' Op passed list of length 0 less than minimum 1.\n",
     "output_type": "error",
     "traceback": [
      "\u001b[0;31m---------------------------------------------------------------------------\u001b[0m",
      "\u001b[0;31mValueError\u001b[0m                                Traceback (most recent call last)",
      "Cell \u001b[0;32mIn[55], line 37\u001b[0m\n\u001b[1;32m     34\u001b[0m train_list\u001b[38;5;241m=\u001b[39mglob\u001b[38;5;241m.\u001b[39mglob(\u001b[38;5;124m\"\u001b[39m\u001b[38;5;124m./data/train/*.csv\u001b[39m\u001b[38;5;124m\"\u001b[39m)\n\u001b[1;32m     36\u001b[0m tmp\u001b[38;5;241m=\u001b[39mCSVDataSet(train_list,record_defaults,column_names,drop_columns)\n\u001b[0;32m---> 37\u001b[0m ds\u001b[38;5;241m=\u001b[39m\u001b[43mtmp\u001b[49m\u001b[38;5;241;43m.\u001b[39;49m\u001b[43mgetds\u001b[49m\u001b[43m(\u001b[49m\u001b[43m)\u001b[49m\n",
      "Cell \u001b[0;32mIn[55], line 17\u001b[0m, in \u001b[0;36mCSVDataSet.getds\u001b[0;34m(self)\u001b[0m\n\u001b[1;32m     11\u001b[0m \u001b[38;5;28;01mdef\u001b[39;00m \u001b[38;5;21mgetds\u001b[39m(\u001b[38;5;28mself\u001b[39m):\n\u001b[1;32m     12\u001b[0m     dataset \u001b[38;5;241m=\u001b[39m \u001b[38;5;28mself\u001b[39m\u001b[38;5;241m.\u001b[39mfilename_dataset\u001b[38;5;241m.\u001b[39minterleave(\n\u001b[1;32m     13\u001b[0m         \u001b[38;5;28;01mlambda\u001b[39;00m filename: tf\u001b[38;5;241m.\u001b[39mdata\u001b[38;5;241m.\u001b[39mTextLineDataset(filename)\u001b[38;5;241m.\u001b[39mskip(\u001b[38;5;241m1\u001b[39m)\u001b[38;5;241m.\u001b[39mshuffle(\u001b[38;5;28mself\u001b[39m\u001b[38;5;241m.\u001b[39mbuffer_size),\n\u001b[1;32m     14\u001b[0m         \u001b[38;5;66;03m#并行数为5，默认一次从并行数中取出一条数据\u001b[39;00m\n\u001b[1;32m     15\u001b[0m         cycle_length \u001b[38;5;241m=\u001b[39m n_readers\n\u001b[1;32m     16\u001b[0m     )\n\u001b[0;32m---> 17\u001b[0m     dataset \u001b[38;5;241m=\u001b[39m \u001b[43mdataset\u001b[49m\u001b[38;5;241;43m.\u001b[39;49m\u001b[43mmap\u001b[49m\u001b[43m(\u001b[49m\u001b[38;5;28;43mself\u001b[39;49m\u001b[38;5;241;43m.\u001b[39;49m\u001b[43mparse_csv\u001b[49m\u001b[43m,\u001b[49m\u001b[43m \u001b[49m\u001b[43mnum_parallel_calls\u001b[49m\u001b[38;5;241;43m=\u001b[39;49m\u001b[38;5;28;43mself\u001b[39;49m\u001b[38;5;241;43m.\u001b[39;49m\u001b[43mnum_parallel_calls\u001b[49m\u001b[43m)\u001b[49m\n\u001b[1;32m     18\u001b[0m     \u001b[38;5;28;01mreturn\u001b[39;00m dataset\n",
      "File \u001b[0;32m/opt/miniconda3/envs/tensorflow/lib/python3.9/site-packages/tensorflow/python/data/ops/dataset_ops.py:2296\u001b[0m, in \u001b[0;36mDatasetV2.map\u001b[0;34m(self, map_func, num_parallel_calls, deterministic, name)\u001b[0m\n\u001b[1;32m   2294\u001b[0m   \u001b[38;5;28;01mreturn\u001b[39;00m MapDataset(\u001b[38;5;28mself\u001b[39m, map_func, preserve_cardinality\u001b[38;5;241m=\u001b[39m\u001b[38;5;28;01mTrue\u001b[39;00m, name\u001b[38;5;241m=\u001b[39mname)\n\u001b[1;32m   2295\u001b[0m \u001b[38;5;28;01melse\u001b[39;00m:\n\u001b[0;32m-> 2296\u001b[0m   \u001b[38;5;28;01mreturn\u001b[39;00m \u001b[43mParallelMapDataset\u001b[49m\u001b[43m(\u001b[49m\n\u001b[1;32m   2297\u001b[0m \u001b[43m      \u001b[49m\u001b[38;5;28;43mself\u001b[39;49m\u001b[43m,\u001b[49m\n\u001b[1;32m   2298\u001b[0m \u001b[43m      \u001b[49m\u001b[43mmap_func\u001b[49m\u001b[43m,\u001b[49m\n\u001b[1;32m   2299\u001b[0m \u001b[43m      \u001b[49m\u001b[43mnum_parallel_calls\u001b[49m\u001b[43m,\u001b[49m\n\u001b[1;32m   2300\u001b[0m \u001b[43m      \u001b[49m\u001b[43mdeterministic\u001b[49m\u001b[43m,\u001b[49m\n\u001b[1;32m   2301\u001b[0m \u001b[43m      \u001b[49m\u001b[43mpreserve_cardinality\u001b[49m\u001b[38;5;241;43m=\u001b[39;49m\u001b[38;5;28;43;01mTrue\u001b[39;49;00m\u001b[43m,\u001b[49m\n\u001b[1;32m   2302\u001b[0m \u001b[43m      \u001b[49m\u001b[43mname\u001b[49m\u001b[38;5;241;43m=\u001b[39;49m\u001b[43mname\u001b[49m\u001b[43m)\u001b[49m\n",
      "File \u001b[0;32m/opt/miniconda3/envs/tensorflow/lib/python3.9/site-packages/tensorflow/python/data/ops/dataset_ops.py:5540\u001b[0m, in \u001b[0;36mParallelMapDataset.__init__\u001b[0;34m(self, input_dataset, map_func, num_parallel_calls, deterministic, use_inter_op_parallelism, preserve_cardinality, use_legacy_function, name)\u001b[0m\n\u001b[1;32m   5538\u001b[0m \u001b[38;5;28mself\u001b[39m\u001b[38;5;241m.\u001b[39m_input_dataset \u001b[38;5;241m=\u001b[39m input_dataset\n\u001b[1;32m   5539\u001b[0m \u001b[38;5;28mself\u001b[39m\u001b[38;5;241m.\u001b[39m_use_inter_op_parallelism \u001b[38;5;241m=\u001b[39m use_inter_op_parallelism\n\u001b[0;32m-> 5540\u001b[0m \u001b[38;5;28mself\u001b[39m\u001b[38;5;241m.\u001b[39m_map_func \u001b[38;5;241m=\u001b[39m \u001b[43mstructured_function\u001b[49m\u001b[38;5;241;43m.\u001b[39;49m\u001b[43mStructuredFunctionWrapper\u001b[49m\u001b[43m(\u001b[49m\n\u001b[1;32m   5541\u001b[0m \u001b[43m    \u001b[49m\u001b[43mmap_func\u001b[49m\u001b[43m,\u001b[49m\n\u001b[1;32m   5542\u001b[0m \u001b[43m    \u001b[49m\u001b[38;5;28;43mself\u001b[39;49m\u001b[38;5;241;43m.\u001b[39;49m\u001b[43m_transformation_name\u001b[49m\u001b[43m(\u001b[49m\u001b[43m)\u001b[49m\u001b[43m,\u001b[49m\n\u001b[1;32m   5543\u001b[0m \u001b[43m    \u001b[49m\u001b[43mdataset\u001b[49m\u001b[38;5;241;43m=\u001b[39;49m\u001b[43minput_dataset\u001b[49m\u001b[43m,\u001b[49m\n\u001b[1;32m   5544\u001b[0m \u001b[43m    \u001b[49m\u001b[43muse_legacy_function\u001b[49m\u001b[38;5;241;43m=\u001b[39;49m\u001b[43muse_legacy_function\u001b[49m\u001b[43m)\u001b[49m\n\u001b[1;32m   5545\u001b[0m \u001b[38;5;28;01mif\u001b[39;00m deterministic \u001b[38;5;129;01mis\u001b[39;00m \u001b[38;5;28;01mNone\u001b[39;00m:\n\u001b[1;32m   5546\u001b[0m   \u001b[38;5;28mself\u001b[39m\u001b[38;5;241m.\u001b[39m_deterministic \u001b[38;5;241m=\u001b[39m \u001b[38;5;124m\"\u001b[39m\u001b[38;5;124mdefault\u001b[39m\u001b[38;5;124m\"\u001b[39m\n",
      "File \u001b[0;32m/opt/miniconda3/envs/tensorflow/lib/python3.9/site-packages/tensorflow/python/data/ops/structured_function.py:263\u001b[0m, in \u001b[0;36mStructuredFunctionWrapper.__init__\u001b[0;34m(self, func, transformation_name, dataset, input_classes, input_shapes, input_types, input_structure, add_to_graph, use_legacy_function, defun_kwargs)\u001b[0m\n\u001b[1;32m    256\u001b[0m       warnings\u001b[38;5;241m.\u001b[39mwarn(\n\u001b[1;32m    257\u001b[0m           \u001b[38;5;124m\"\u001b[39m\u001b[38;5;124mEven though the `tf.config.experimental_run_functions_eagerly` \u001b[39m\u001b[38;5;124m\"\u001b[39m\n\u001b[1;32m    258\u001b[0m           \u001b[38;5;124m\"\u001b[39m\u001b[38;5;124moption is set, this option does not apply to tf.data functions. \u001b[39m\u001b[38;5;124m\"\u001b[39m\n\u001b[1;32m    259\u001b[0m           \u001b[38;5;124m\"\u001b[39m\u001b[38;5;124mTo force eager execution of tf.data functions, please use \u001b[39m\u001b[38;5;124m\"\u001b[39m\n\u001b[1;32m    260\u001b[0m           \u001b[38;5;124m\"\u001b[39m\u001b[38;5;124m`tf.data.experimental.enable_debug_mode()`.\u001b[39m\u001b[38;5;124m\"\u001b[39m)\n\u001b[1;32m    261\u001b[0m     fn_factory \u001b[38;5;241m=\u001b[39m trace_tf_function(defun_kwargs)\n\u001b[0;32m--> 263\u001b[0m \u001b[38;5;28mself\u001b[39m\u001b[38;5;241m.\u001b[39m_function \u001b[38;5;241m=\u001b[39m \u001b[43mfn_factory\u001b[49m\u001b[43m(\u001b[49m\u001b[43m)\u001b[49m\n\u001b[1;32m    264\u001b[0m \u001b[38;5;66;03m# There is no graph to add in eager mode.\u001b[39;00m\n\u001b[1;32m    265\u001b[0m add_to_graph \u001b[38;5;241m&\u001b[39m\u001b[38;5;241m=\u001b[39m \u001b[38;5;129;01mnot\u001b[39;00m context\u001b[38;5;241m.\u001b[39mexecuting_eagerly()\n",
      "File \u001b[0;32m/opt/miniconda3/envs/tensorflow/lib/python3.9/site-packages/tensorflow/python/eager/polymorphic_function/tracing_compiler.py:226\u001b[0m, in \u001b[0;36mTracingCompiler.get_concrete_function\u001b[0;34m(self, *args, **kwargs)\u001b[0m\n\u001b[1;32m    217\u001b[0m \u001b[38;5;28;01mdef\u001b[39;00m \u001b[38;5;21mget_concrete_function\u001b[39m(\u001b[38;5;28mself\u001b[39m, \u001b[38;5;241m*\u001b[39margs, \u001b[38;5;241m*\u001b[39m\u001b[38;5;241m*\u001b[39mkwargs):\n\u001b[1;32m    218\u001b[0m \u001b[38;5;250m  \u001b[39m\u001b[38;5;124;03m\"\"\"Returns a `ConcreteFunction` specialized to inputs and execution context.\u001b[39;00m\n\u001b[1;32m    219\u001b[0m \n\u001b[1;32m    220\u001b[0m \u001b[38;5;124;03m  Args:\u001b[39;00m\n\u001b[0;32m   (...)\u001b[0m\n\u001b[1;32m    224\u001b[0m \u001b[38;5;124;03m      `tf.Tensor` or `tf.TensorSpec`.\u001b[39;00m\n\u001b[1;32m    225\u001b[0m \u001b[38;5;124;03m  \"\"\"\u001b[39;00m\n\u001b[0;32m--> 226\u001b[0m   concrete_function \u001b[38;5;241m=\u001b[39m \u001b[38;5;28;43mself\u001b[39;49m\u001b[38;5;241;43m.\u001b[39;49m\u001b[43m_get_concrete_function_garbage_collected\u001b[49m\u001b[43m(\u001b[49m\n\u001b[1;32m    227\u001b[0m \u001b[43m      \u001b[49m\u001b[38;5;241;43m*\u001b[39;49m\u001b[43margs\u001b[49m\u001b[43m,\u001b[49m\u001b[43m \u001b[49m\u001b[38;5;241;43m*\u001b[39;49m\u001b[38;5;241;43m*\u001b[39;49m\u001b[43mkwargs\u001b[49m\u001b[43m)\u001b[49m\n\u001b[1;32m    228\u001b[0m   concrete_function\u001b[38;5;241m.\u001b[39m_garbage_collector\u001b[38;5;241m.\u001b[39mrelease()  \u001b[38;5;66;03m# pylint: disable=protected-access\u001b[39;00m\n\u001b[1;32m    229\u001b[0m   \u001b[38;5;28;01mreturn\u001b[39;00m concrete_function\n",
      "File \u001b[0;32m/opt/miniconda3/envs/tensorflow/lib/python3.9/site-packages/tensorflow/python/eager/polymorphic_function/tracing_compiler.py:192\u001b[0m, in \u001b[0;36mTracingCompiler._get_concrete_function_garbage_collected\u001b[0;34m(self, *args, **kwargs)\u001b[0m\n\u001b[1;32m    189\u001b[0m   \u001b[38;5;28mself\u001b[39m\u001b[38;5;241m.\u001b[39m_function_spec\u001b[38;5;241m.\u001b[39mvalidate_inputs_with_signature(args, kwargs)\n\u001b[1;32m    191\u001b[0m \u001b[38;5;28;01mwith\u001b[39;00m \u001b[38;5;28mself\u001b[39m\u001b[38;5;241m.\u001b[39m_lock:\n\u001b[0;32m--> 192\u001b[0m   concrete_function, _ \u001b[38;5;241m=\u001b[39m \u001b[38;5;28;43mself\u001b[39;49m\u001b[38;5;241;43m.\u001b[39;49m\u001b[43m_maybe_define_concrete_function\u001b[49m\u001b[43m(\u001b[49m\u001b[43margs\u001b[49m\u001b[43m,\u001b[49m\u001b[43m \u001b[49m\u001b[43mkwargs\u001b[49m\u001b[43m)\u001b[49m\n\u001b[1;32m    193\u001b[0m   seen_names \u001b[38;5;241m=\u001b[39m \u001b[38;5;28mset\u001b[39m()\n\u001b[1;32m    194\u001b[0m   captured \u001b[38;5;241m=\u001b[39m object_identity\u001b[38;5;241m.\u001b[39mObjectIdentitySet(\n\u001b[1;32m    195\u001b[0m       concrete_function\u001b[38;5;241m.\u001b[39mgraph\u001b[38;5;241m.\u001b[39minternal_captures)\n",
      "File \u001b[0;32m/opt/miniconda3/envs/tensorflow/lib/python3.9/site-packages/tensorflow/python/eager/polymorphic_function/tracing_compiler.py:157\u001b[0m, in \u001b[0;36mTracingCompiler._maybe_define_concrete_function\u001b[0;34m(self, args, kwargs)\u001b[0m\n\u001b[1;32m    154\u001b[0m   args \u001b[38;5;241m=\u001b[39m \u001b[38;5;28mself\u001b[39m\u001b[38;5;241m.\u001b[39minput_signature\n\u001b[1;32m    155\u001b[0m   kwargs \u001b[38;5;241m=\u001b[39m {}\n\u001b[0;32m--> 157\u001b[0m \u001b[38;5;28;01mreturn\u001b[39;00m \u001b[38;5;28;43mself\u001b[39;49m\u001b[38;5;241;43m.\u001b[39;49m\u001b[43m_maybe_define_function\u001b[49m\u001b[43m(\u001b[49m\u001b[43margs\u001b[49m\u001b[43m,\u001b[49m\u001b[43m \u001b[49m\u001b[43mkwargs\u001b[49m\u001b[43m)\u001b[49m\n",
      "File \u001b[0;32m/opt/miniconda3/envs/tensorflow/lib/python3.9/site-packages/tensorflow/python/eager/polymorphic_function/tracing_compiler.py:360\u001b[0m, in \u001b[0;36mTracingCompiler._maybe_define_function\u001b[0;34m(self, args, kwargs)\u001b[0m\n\u001b[1;32m    357\u001b[0m   \u001b[38;5;66;03m# Only get placeholders for arguments, not captures\u001b[39;00m\n\u001b[1;32m    358\u001b[0m   args, kwargs \u001b[38;5;241m=\u001b[39m generalized_func_key\u001b[38;5;241m.\u001b[39m_placeholder_value()  \u001b[38;5;66;03m# pylint: disable=protected-access\u001b[39;00m\n\u001b[0;32m--> 360\u001b[0m concrete_function \u001b[38;5;241m=\u001b[39m \u001b[38;5;28;43mself\u001b[39;49m\u001b[38;5;241;43m.\u001b[39;49m\u001b[43m_create_concrete_function\u001b[49m\u001b[43m(\u001b[49m\u001b[43margs\u001b[49m\u001b[43m,\u001b[49m\u001b[43m \u001b[49m\u001b[43mkwargs\u001b[49m\u001b[43m)\u001b[49m\n\u001b[1;32m    362\u001b[0m graph_capture_container \u001b[38;5;241m=\u001b[39m concrete_function\u001b[38;5;241m.\u001b[39mgraph\u001b[38;5;241m.\u001b[39m_capture_func_lib  \u001b[38;5;66;03m# pylint: disable=protected-access\u001b[39;00m\n\u001b[1;32m    363\u001b[0m \u001b[38;5;66;03m# Maintain the list of all captures\u001b[39;00m\n",
      "File \u001b[0;32m/opt/miniconda3/envs/tensorflow/lib/python3.9/site-packages/tensorflow/python/eager/polymorphic_function/tracing_compiler.py:284\u001b[0m, in \u001b[0;36mTracingCompiler._create_concrete_function\u001b[0;34m(self, args, kwargs)\u001b[0m\n\u001b[1;32m    279\u001b[0m missing_arg_names \u001b[38;5;241m=\u001b[39m [\n\u001b[1;32m    280\u001b[0m     \u001b[38;5;124m\"\u001b[39m\u001b[38;5;132;01m%s\u001b[39;00m\u001b[38;5;124m_\u001b[39m\u001b[38;5;132;01m%d\u001b[39;00m\u001b[38;5;124m\"\u001b[39m \u001b[38;5;241m%\u001b[39m (arg, i) \u001b[38;5;28;01mfor\u001b[39;00m i, arg \u001b[38;5;129;01min\u001b[39;00m \u001b[38;5;28menumerate\u001b[39m(missing_arg_names)\n\u001b[1;32m    281\u001b[0m ]\n\u001b[1;32m    282\u001b[0m arg_names \u001b[38;5;241m=\u001b[39m base_arg_names \u001b[38;5;241m+\u001b[39m missing_arg_names\n\u001b[1;32m    283\u001b[0m concrete_function \u001b[38;5;241m=\u001b[39m monomorphic_function\u001b[38;5;241m.\u001b[39mConcreteFunction(\n\u001b[0;32m--> 284\u001b[0m     \u001b[43mfunc_graph_module\u001b[49m\u001b[38;5;241;43m.\u001b[39;49m\u001b[43mfunc_graph_from_py_func\u001b[49m\u001b[43m(\u001b[49m\n\u001b[1;32m    285\u001b[0m \u001b[43m        \u001b[49m\u001b[38;5;28;43mself\u001b[39;49m\u001b[38;5;241;43m.\u001b[39;49m\u001b[43m_name\u001b[49m\u001b[43m,\u001b[49m\n\u001b[1;32m    286\u001b[0m \u001b[43m        \u001b[49m\u001b[38;5;28;43mself\u001b[39;49m\u001b[38;5;241;43m.\u001b[39;49m\u001b[43m_python_function\u001b[49m\u001b[43m,\u001b[49m\n\u001b[1;32m    287\u001b[0m \u001b[43m        \u001b[49m\u001b[43margs\u001b[49m\u001b[43m,\u001b[49m\n\u001b[1;32m    288\u001b[0m \u001b[43m        \u001b[49m\u001b[43mkwargs\u001b[49m\u001b[43m,\u001b[49m\n\u001b[1;32m    289\u001b[0m \u001b[43m        \u001b[49m\u001b[38;5;28;43;01mNone\u001b[39;49;00m\u001b[43m,\u001b[49m\n\u001b[1;32m    290\u001b[0m \u001b[43m        \u001b[49m\u001b[43mautograph\u001b[49m\u001b[38;5;241;43m=\u001b[39;49m\u001b[38;5;28;43mself\u001b[39;49m\u001b[38;5;241;43m.\u001b[39;49m\u001b[43m_autograph\u001b[49m\u001b[43m,\u001b[49m\n\u001b[1;32m    291\u001b[0m \u001b[43m        \u001b[49m\u001b[43mautograph_options\u001b[49m\u001b[38;5;241;43m=\u001b[39;49m\u001b[38;5;28;43mself\u001b[39;49m\u001b[38;5;241;43m.\u001b[39;49m\u001b[43m_autograph_options\u001b[49m\u001b[43m,\u001b[49m\n\u001b[1;32m    292\u001b[0m \u001b[43m        \u001b[49m\u001b[43marg_names\u001b[49m\u001b[38;5;241;43m=\u001b[39;49m\u001b[43marg_names\u001b[49m\u001b[43m,\u001b[49m\n\u001b[1;32m    293\u001b[0m \u001b[43m        \u001b[49m\u001b[43mcapture_by_value\u001b[49m\u001b[38;5;241;43m=\u001b[39;49m\u001b[38;5;28;43mself\u001b[39;49m\u001b[38;5;241;43m.\u001b[39;49m\u001b[43m_capture_by_value\u001b[49m\u001b[43m)\u001b[49m,\n\u001b[1;32m    294\u001b[0m     \u001b[38;5;28mself\u001b[39m\u001b[38;5;241m.\u001b[39m_function_attributes,\n\u001b[1;32m    295\u001b[0m     spec\u001b[38;5;241m=\u001b[39m\u001b[38;5;28mself\u001b[39m\u001b[38;5;241m.\u001b[39mfunction_spec,\n\u001b[1;32m    296\u001b[0m     \u001b[38;5;66;03m# Tell the ConcreteFunction to clean up its graph once it goes out of\u001b[39;00m\n\u001b[1;32m    297\u001b[0m     \u001b[38;5;66;03m# scope. This is not the default behavior since it gets used in some\u001b[39;00m\n\u001b[1;32m    298\u001b[0m     \u001b[38;5;66;03m# places (like Keras) where the FuncGraph lives longer than the\u001b[39;00m\n\u001b[1;32m    299\u001b[0m     \u001b[38;5;66;03m# ConcreteFunction.\u001b[39;00m\n\u001b[1;32m    300\u001b[0m     shared_func_graph\u001b[38;5;241m=\u001b[39m\u001b[38;5;28;01mFalse\u001b[39;00m)\n\u001b[1;32m    301\u001b[0m \u001b[38;5;28;01mreturn\u001b[39;00m concrete_function\n",
      "File \u001b[0;32m/opt/miniconda3/envs/tensorflow/lib/python3.9/site-packages/tensorflow/python/framework/func_graph.py:1283\u001b[0m, in \u001b[0;36mfunc_graph_from_py_func\u001b[0;34m(name, python_func, args, kwargs, signature, func_graph, autograph, autograph_options, add_control_dependencies, arg_names, op_return_value, collections, capture_by_value, acd_record_initial_resource_uses)\u001b[0m\n\u001b[1;32m   1280\u001b[0m \u001b[38;5;28;01melse\u001b[39;00m:\n\u001b[1;32m   1281\u001b[0m   _, original_func \u001b[38;5;241m=\u001b[39m tf_decorator\u001b[38;5;241m.\u001b[39munwrap(python_func)\n\u001b[0;32m-> 1283\u001b[0m func_outputs \u001b[38;5;241m=\u001b[39m \u001b[43mpython_func\u001b[49m\u001b[43m(\u001b[49m\u001b[38;5;241;43m*\u001b[39;49m\u001b[43mfunc_args\u001b[49m\u001b[43m,\u001b[49m\u001b[43m \u001b[49m\u001b[38;5;241;43m*\u001b[39;49m\u001b[38;5;241;43m*\u001b[39;49m\u001b[43mfunc_kwargs\u001b[49m\u001b[43m)\u001b[49m\n\u001b[1;32m   1285\u001b[0m \u001b[38;5;66;03m# invariant: `func_outputs` contains only Tensors, CompositeTensors,\u001b[39;00m\n\u001b[1;32m   1286\u001b[0m \u001b[38;5;66;03m# TensorArrays and `None`s.\u001b[39;00m\n\u001b[1;32m   1287\u001b[0m func_outputs \u001b[38;5;241m=\u001b[39m variable_utils\u001b[38;5;241m.\u001b[39mconvert_variables_to_tensors(func_outputs)\n",
      "File \u001b[0;32m/opt/miniconda3/envs/tensorflow/lib/python3.9/site-packages/tensorflow/python/data/ops/structured_function.py:240\u001b[0m, in \u001b[0;36mStructuredFunctionWrapper.__init__.<locals>.trace_tf_function.<locals>.wrapped_fn\u001b[0;34m(*args)\u001b[0m\n\u001b[1;32m    234\u001b[0m \u001b[38;5;129m@eager_function\u001b[39m\u001b[38;5;241m.\u001b[39mdefun_with_attributes(\n\u001b[1;32m    235\u001b[0m     input_signature\u001b[38;5;241m=\u001b[39mstructure\u001b[38;5;241m.\u001b[39mget_flat_tensor_specs(\n\u001b[1;32m    236\u001b[0m         \u001b[38;5;28mself\u001b[39m\u001b[38;5;241m.\u001b[39m_input_structure),\n\u001b[1;32m    237\u001b[0m     autograph\u001b[38;5;241m=\u001b[39m\u001b[38;5;28;01mFalse\u001b[39;00m,\n\u001b[1;32m    238\u001b[0m     attributes\u001b[38;5;241m=\u001b[39mdefun_kwargs)\n\u001b[1;32m    239\u001b[0m \u001b[38;5;28;01mdef\u001b[39;00m \u001b[38;5;21mwrapped_fn\u001b[39m(\u001b[38;5;241m*\u001b[39margs):  \u001b[38;5;66;03m# pylint: disable=missing-docstring\u001b[39;00m\n\u001b[0;32m--> 240\u001b[0m   ret \u001b[38;5;241m=\u001b[39m \u001b[43mwrapper_helper\u001b[49m\u001b[43m(\u001b[49m\u001b[38;5;241;43m*\u001b[39;49m\u001b[43margs\u001b[49m\u001b[43m)\u001b[49m\n\u001b[1;32m    241\u001b[0m   ret \u001b[38;5;241m=\u001b[39m structure\u001b[38;5;241m.\u001b[39mto_tensor_list(\u001b[38;5;28mself\u001b[39m\u001b[38;5;241m.\u001b[39m_output_structure, ret)\n\u001b[1;32m    242\u001b[0m   \u001b[38;5;28;01mreturn\u001b[39;00m [ops\u001b[38;5;241m.\u001b[39mconvert_to_tensor(t) \u001b[38;5;28;01mfor\u001b[39;00m t \u001b[38;5;129;01min\u001b[39;00m ret]\n",
      "File \u001b[0;32m/opt/miniconda3/envs/tensorflow/lib/python3.9/site-packages/tensorflow/python/data/ops/structured_function.py:171\u001b[0m, in \u001b[0;36mStructuredFunctionWrapper.__init__.<locals>.wrapper_helper\u001b[0;34m(*args)\u001b[0m\n\u001b[1;32m    169\u001b[0m \u001b[38;5;28;01mif\u001b[39;00m \u001b[38;5;129;01mnot\u001b[39;00m _should_unpack(nested_args):\n\u001b[1;32m    170\u001b[0m   nested_args \u001b[38;5;241m=\u001b[39m (nested_args,)\n\u001b[0;32m--> 171\u001b[0m ret \u001b[38;5;241m=\u001b[39m \u001b[43mautograph\u001b[49m\u001b[38;5;241;43m.\u001b[39;49m\u001b[43mtf_convert\u001b[49m\u001b[43m(\u001b[49m\u001b[38;5;28;43mself\u001b[39;49m\u001b[38;5;241;43m.\u001b[39;49m\u001b[43m_func\u001b[49m\u001b[43m,\u001b[49m\u001b[43m \u001b[49m\u001b[43mag_ctx\u001b[49m\u001b[43m)\u001b[49m\u001b[43m(\u001b[49m\u001b[38;5;241;43m*\u001b[39;49m\u001b[43mnested_args\u001b[49m\u001b[43m)\u001b[49m\n\u001b[1;32m    172\u001b[0m ret \u001b[38;5;241m=\u001b[39m variable_utils\u001b[38;5;241m.\u001b[39mconvert_variables_to_tensors(ret)\n\u001b[1;32m    173\u001b[0m \u001b[38;5;28;01mif\u001b[39;00m _should_pack(ret):\n",
      "File \u001b[0;32m/opt/miniconda3/envs/tensorflow/lib/python3.9/site-packages/tensorflow/python/autograph/impl/api.py:692\u001b[0m, in \u001b[0;36mconvert.<locals>.decorator.<locals>.wrapper\u001b[0;34m(*args, **kwargs)\u001b[0m\n\u001b[1;32m    690\u001b[0m \u001b[38;5;28;01mexcept\u001b[39;00m \u001b[38;5;167;01mException\u001b[39;00m \u001b[38;5;28;01mas\u001b[39;00m e:  \u001b[38;5;66;03m# pylint:disable=broad-except\u001b[39;00m\n\u001b[1;32m    691\u001b[0m   \u001b[38;5;28;01mif\u001b[39;00m \u001b[38;5;28mhasattr\u001b[39m(e, \u001b[38;5;124m'\u001b[39m\u001b[38;5;124mag_error_metadata\u001b[39m\u001b[38;5;124m'\u001b[39m):\n\u001b[0;32m--> 692\u001b[0m     \u001b[38;5;28;01mraise\u001b[39;00m e\u001b[38;5;241m.\u001b[39mag_error_metadata\u001b[38;5;241m.\u001b[39mto_exception(e)\n\u001b[1;32m    693\u001b[0m   \u001b[38;5;28;01melse\u001b[39;00m:\n\u001b[1;32m    694\u001b[0m     \u001b[38;5;28;01mraise\u001b[39;00m\n",
      "File \u001b[0;32m/opt/miniconda3/envs/tensorflow/lib/python3.9/site-packages/tensorflow/python/autograph/impl/api.py:689\u001b[0m, in \u001b[0;36mconvert.<locals>.decorator.<locals>.wrapper\u001b[0;34m(*args, **kwargs)\u001b[0m\n\u001b[1;32m    687\u001b[0m \u001b[38;5;28;01mtry\u001b[39;00m:\n\u001b[1;32m    688\u001b[0m   \u001b[38;5;28;01mwith\u001b[39;00m conversion_ctx:\n\u001b[0;32m--> 689\u001b[0m     \u001b[38;5;28;01mreturn\u001b[39;00m \u001b[43mconverted_call\u001b[49m\u001b[43m(\u001b[49m\u001b[43mf\u001b[49m\u001b[43m,\u001b[49m\u001b[43m \u001b[49m\u001b[43margs\u001b[49m\u001b[43m,\u001b[49m\u001b[43m \u001b[49m\u001b[43mkwargs\u001b[49m\u001b[43m,\u001b[49m\u001b[43m \u001b[49m\u001b[43moptions\u001b[49m\u001b[38;5;241;43m=\u001b[39;49m\u001b[43moptions\u001b[49m\u001b[43m)\u001b[49m\n\u001b[1;32m    690\u001b[0m \u001b[38;5;28;01mexcept\u001b[39;00m \u001b[38;5;167;01mException\u001b[39;00m \u001b[38;5;28;01mas\u001b[39;00m e:  \u001b[38;5;66;03m# pylint:disable=broad-except\u001b[39;00m\n\u001b[1;32m    691\u001b[0m   \u001b[38;5;28;01mif\u001b[39;00m \u001b[38;5;28mhasattr\u001b[39m(e, \u001b[38;5;124m'\u001b[39m\u001b[38;5;124mag_error_metadata\u001b[39m\u001b[38;5;124m'\u001b[39m):\n",
      "File \u001b[0;32m/opt/miniconda3/envs/tensorflow/lib/python3.9/site-packages/tensorflow/python/autograph/impl/api.py:439\u001b[0m, in \u001b[0;36mconverted_call\u001b[0;34m(f, args, kwargs, caller_fn_scope, options)\u001b[0m\n\u001b[1;32m    437\u001b[0m \u001b[38;5;28;01mtry\u001b[39;00m:\n\u001b[1;32m    438\u001b[0m   \u001b[38;5;28;01mif\u001b[39;00m kwargs \u001b[38;5;129;01mis\u001b[39;00m \u001b[38;5;129;01mnot\u001b[39;00m \u001b[38;5;28;01mNone\u001b[39;00m:\n\u001b[0;32m--> 439\u001b[0m     result \u001b[38;5;241m=\u001b[39m \u001b[43mconverted_f\u001b[49m\u001b[43m(\u001b[49m\u001b[38;5;241;43m*\u001b[39;49m\u001b[43meffective_args\u001b[49m\u001b[43m,\u001b[49m\u001b[43m \u001b[49m\u001b[38;5;241;43m*\u001b[39;49m\u001b[38;5;241;43m*\u001b[39;49m\u001b[43mkwargs\u001b[49m\u001b[43m)\u001b[49m\n\u001b[1;32m    440\u001b[0m   \u001b[38;5;28;01melse\u001b[39;00m:\n\u001b[1;32m    441\u001b[0m     result \u001b[38;5;241m=\u001b[39m converted_f(\u001b[38;5;241m*\u001b[39meffective_args)\n",
      "File \u001b[0;32m/tmp/__autograph_generated_filecomv4u9e.py:10\u001b[0m, in \u001b[0;36mouter_factory.<locals>.inner_factory.<locals>.tf__parse_csv\u001b[0;34m(self, value)\u001b[0m\n\u001b[1;32m      8\u001b[0m do_return \u001b[38;5;241m=\u001b[39m \u001b[38;5;28;01mFalse\u001b[39;00m\n\u001b[1;32m      9\u001b[0m retval_ \u001b[38;5;241m=\u001b[39m ag__\u001b[38;5;241m.\u001b[39mUndefinedReturnValue()\n\u001b[0;32m---> 10\u001b[0m columns \u001b[38;5;241m=\u001b[39m \u001b[43mag__\u001b[49m\u001b[38;5;241;43m.\u001b[39;49m\u001b[43mconverted_call\u001b[49m\u001b[43m(\u001b[49m\u001b[43mag__\u001b[49m\u001b[38;5;241;43m.\u001b[39;49m\u001b[43mld\u001b[49m\u001b[43m(\u001b[49m\u001b[43mtf\u001b[49m\u001b[43m)\u001b[49m\u001b[38;5;241;43m.\u001b[39;49m\u001b[43mio\u001b[49m\u001b[38;5;241;43m.\u001b[39;49m\u001b[43mdecode_csv\u001b[49m\u001b[43m,\u001b[49m\u001b[43m \u001b[49m\u001b[43m(\u001b[49m\u001b[43mag__\u001b[49m\u001b[38;5;241;43m.\u001b[39;49m\u001b[43mld\u001b[49m\u001b[43m(\u001b[49m\u001b[43mvalue\u001b[49m\u001b[43m)\u001b[49m\u001b[43m,\u001b[49m\u001b[43m)\u001b[49m\u001b[43m,\u001b[49m\u001b[43m \u001b[49m\u001b[38;5;28;43mdict\u001b[39;49m\u001b[43m(\u001b[49m\u001b[43mrecord_defaults\u001b[49m\u001b[38;5;241;43m=\u001b[39;49m\u001b[43mag__\u001b[49m\u001b[38;5;241;43m.\u001b[39;49m\u001b[43mld\u001b[49m\u001b[43m(\u001b[49m\u001b[38;5;28;43mself\u001b[39;49m\u001b[43m)\u001b[49m\u001b[38;5;241;43m.\u001b[39;49m\u001b[43mrecord_defaults\u001b[49m\u001b[43m)\u001b[49m\u001b[43m,\u001b[49m\u001b[43m \u001b[49m\u001b[43mfscope\u001b[49m\u001b[43m)\u001b[49m\n\u001b[1;32m     11\u001b[0m features \u001b[38;5;241m=\u001b[39m ag__\u001b[38;5;241m.\u001b[39mconverted_call(ag__\u001b[38;5;241m.\u001b[39mld(\u001b[38;5;28mdict\u001b[39m), (ag__\u001b[38;5;241m.\u001b[39mconverted_call(ag__\u001b[38;5;241m.\u001b[39mld(\u001b[38;5;28mzip\u001b[39m), (ag__\u001b[38;5;241m.\u001b[39mld(\u001b[38;5;28mself\u001b[39m)\u001b[38;5;241m.\u001b[39mcolumn_names, ag__\u001b[38;5;241m.\u001b[39mld(columns)), \u001b[38;5;28;01mNone\u001b[39;00m, fscope),), \u001b[38;5;28;01mNone\u001b[39;00m, fscope)\n\u001b[1;32m     13\u001b[0m \u001b[38;5;28;01mdef\u001b[39;00m \u001b[38;5;21mget_state\u001b[39m():\n",
      "File \u001b[0;32m/opt/miniconda3/envs/tensorflow/lib/python3.9/site-packages/tensorflow/python/autograph/impl/api.py:377\u001b[0m, in \u001b[0;36mconverted_call\u001b[0;34m(f, args, kwargs, caller_fn_scope, options)\u001b[0m\n\u001b[1;32m    374\u001b[0m   \u001b[38;5;28;01mreturn\u001b[39;00m _call_unconverted(f, args, kwargs, options)\n\u001b[1;32m    376\u001b[0m \u001b[38;5;28;01mif\u001b[39;00m \u001b[38;5;129;01mnot\u001b[39;00m options\u001b[38;5;241m.\u001b[39muser_requested \u001b[38;5;129;01mand\u001b[39;00m conversion\u001b[38;5;241m.\u001b[39mis_allowlisted(f):\n\u001b[0;32m--> 377\u001b[0m   \u001b[38;5;28;01mreturn\u001b[39;00m \u001b[43m_call_unconverted\u001b[49m\u001b[43m(\u001b[49m\u001b[43mf\u001b[49m\u001b[43m,\u001b[49m\u001b[43m \u001b[49m\u001b[43margs\u001b[49m\u001b[43m,\u001b[49m\u001b[43m \u001b[49m\u001b[43mkwargs\u001b[49m\u001b[43m,\u001b[49m\u001b[43m \u001b[49m\u001b[43moptions\u001b[49m\u001b[43m)\u001b[49m\n\u001b[1;32m    379\u001b[0m \u001b[38;5;66;03m# internal_convert_user_code is for example turned off when issuing a dynamic\u001b[39;00m\n\u001b[1;32m    380\u001b[0m \u001b[38;5;66;03m# call conversion from generated code while in nonrecursive mode. In that\u001b[39;00m\n\u001b[1;32m    381\u001b[0m \u001b[38;5;66;03m# case we evidently don't want to recurse, but we still have to convert\u001b[39;00m\n\u001b[1;32m    382\u001b[0m \u001b[38;5;66;03m# things like builtins.\u001b[39;00m\n\u001b[1;32m    383\u001b[0m \u001b[38;5;28;01mif\u001b[39;00m \u001b[38;5;129;01mnot\u001b[39;00m options\u001b[38;5;241m.\u001b[39minternal_convert_user_code:\n",
      "File \u001b[0;32m/opt/miniconda3/envs/tensorflow/lib/python3.9/site-packages/tensorflow/python/autograph/impl/api.py:458\u001b[0m, in \u001b[0;36m_call_unconverted\u001b[0;34m(f, args, kwargs, options, update_cache)\u001b[0m\n\u001b[1;32m    455\u001b[0m   \u001b[38;5;28;01mreturn\u001b[39;00m f\u001b[38;5;241m.\u001b[39m\u001b[38;5;18m__self__\u001b[39m\u001b[38;5;241m.\u001b[39mcall(args, kwargs)\n\u001b[1;32m    457\u001b[0m \u001b[38;5;28;01mif\u001b[39;00m kwargs \u001b[38;5;129;01mis\u001b[39;00m \u001b[38;5;129;01mnot\u001b[39;00m \u001b[38;5;28;01mNone\u001b[39;00m:\n\u001b[0;32m--> 458\u001b[0m   \u001b[38;5;28;01mreturn\u001b[39;00m \u001b[43mf\u001b[49m\u001b[43m(\u001b[49m\u001b[38;5;241;43m*\u001b[39;49m\u001b[43margs\u001b[49m\u001b[43m,\u001b[49m\u001b[43m \u001b[49m\u001b[38;5;241;43m*\u001b[39;49m\u001b[38;5;241;43m*\u001b[39;49m\u001b[43mkwargs\u001b[49m\u001b[43m)\u001b[49m\n\u001b[1;32m    459\u001b[0m \u001b[38;5;28;01mreturn\u001b[39;00m f(\u001b[38;5;241m*\u001b[39margs)\n",
      "File \u001b[0;32m/opt/miniconda3/envs/tensorflow/lib/python3.9/site-packages/tensorflow/python/util/traceback_utils.py:153\u001b[0m, in \u001b[0;36mfilter_traceback.<locals>.error_handler\u001b[0;34m(*args, **kwargs)\u001b[0m\n\u001b[1;32m    151\u001b[0m \u001b[38;5;28;01mexcept\u001b[39;00m \u001b[38;5;167;01mException\u001b[39;00m \u001b[38;5;28;01mas\u001b[39;00m e:\n\u001b[1;32m    152\u001b[0m   filtered_tb \u001b[38;5;241m=\u001b[39m _process_traceback_frames(e\u001b[38;5;241m.\u001b[39m__traceback__)\n\u001b[0;32m--> 153\u001b[0m   \u001b[38;5;28;01mraise\u001b[39;00m e\u001b[38;5;241m.\u001b[39mwith_traceback(filtered_tb) \u001b[38;5;28;01mfrom\u001b[39;00m \u001b[38;5;28;01mNone\u001b[39;00m\n\u001b[1;32m    154\u001b[0m \u001b[38;5;28;01mfinally\u001b[39;00m:\n\u001b[1;32m    155\u001b[0m   \u001b[38;5;28;01mdel\u001b[39;00m filtered_tb\n",
      "File \u001b[0;32m/opt/miniconda3/envs/tensorflow/lib/python3.9/site-packages/tensorflow/python/framework/op_def_library.py:64\u001b[0m, in \u001b[0;36m_SatisfiesLengthConstraint\u001b[0;34m(length, attr_def, param_name, op_type_name)\u001b[0m\n\u001b[1;32m     62\u001b[0m \u001b[38;5;28;01mdef\u001b[39;00m \u001b[38;5;21m_SatisfiesLengthConstraint\u001b[39m(length, attr_def, param_name, op_type_name):\n\u001b[1;32m     63\u001b[0m   \u001b[38;5;28;01mif\u001b[39;00m attr_def\u001b[38;5;241m.\u001b[39mhas_minimum \u001b[38;5;129;01mand\u001b[39;00m length \u001b[38;5;241m<\u001b[39m attr_def\u001b[38;5;241m.\u001b[39mminimum:\n\u001b[0;32m---> 64\u001b[0m     \u001b[38;5;28;01mraise\u001b[39;00m \u001b[38;5;167;01mValueError\u001b[39;00m(\u001b[38;5;124mf\u001b[39m\u001b[38;5;124m\"\u001b[39m\u001b[38;5;124mAttr \u001b[39m\u001b[38;5;124m'\u001b[39m\u001b[38;5;132;01m{\u001b[39;00mparam_name\u001b[38;5;132;01m}\u001b[39;00m\u001b[38;5;124m'\u001b[39m\u001b[38;5;124m of \u001b[39m\u001b[38;5;124m'\u001b[39m\u001b[38;5;132;01m{\u001b[39;00mop_type_name\u001b[38;5;132;01m}\u001b[39;00m\u001b[38;5;124m'\u001b[39m\u001b[38;5;124m Op passed list \u001b[39m\u001b[38;5;124m\"\u001b[39m\n\u001b[1;32m     65\u001b[0m                      \u001b[38;5;124mf\u001b[39m\u001b[38;5;124m\"\u001b[39m\u001b[38;5;124mof length \u001b[39m\u001b[38;5;132;01m{\u001b[39;00mlength\u001b[38;5;132;01m}\u001b[39;00m\u001b[38;5;124m less than minimum \u001b[39m\u001b[38;5;124m\"\u001b[39m\n\u001b[1;32m     66\u001b[0m                      \u001b[38;5;124mf\u001b[39m\u001b[38;5;124m\"\u001b[39m\u001b[38;5;132;01m{\u001b[39;00mattr_def\u001b[38;5;241m.\u001b[39mminimum\u001b[38;5;132;01m}\u001b[39;00m\u001b[38;5;124m.\u001b[39m\u001b[38;5;124m\"\u001b[39m)\n",
      "\u001b[0;31mValueError\u001b[0m: in user code:\n\n    File \"/tmp/ipykernel_417572/257636309.py\", line 21, in parse_csv  *\n        columns = tf.io.decode_csv(value, record_defaults=self.record_defaults)\n\n    ValueError: Attr 'OUT_TYPE' of 'DecodeCSV' Op passed list of length 0 less than minimum 1.\n"
     ]
    }
   ],
   "source": [
    "class CSVDataSet():\n",
    "    def __init__(self,filelist,record_defaults,column_names,drop_columns=[],n_readers=4,num_parallel_calls=4,buffer_size=10240):\n",
    "        self.filename_dataset = tf.data.Dataset.list_files(train_list)\n",
    "        self.n_readers=n_readers\n",
    "        self.record_defaults=record_defaults\n",
    "        self.column_names=column_names\n",
    "        self.drop_columns=drop_columns\n",
    "        self.buffer_size=buffer_size\n",
    "        self.num_parallel_calls=num_parallel_calls\n",
    "\n",
    "    def getds(self):\n",
    "        dataset = self.filename_dataset.interleave(\n",
    "            lambda filename: tf.data.TextLineDataset(filename).skip(1).shuffle(self.buffer_size),\n",
    "            #并行数为5，默认一次从并行数中取出一条数据\n",
    "            cycle_length = n_readers\n",
    "        )\n",
    "        dataset = dataset.map(self.parse_csv, num_parallel_calls=self.num_parallel_calls)\n",
    "        return dataset\n",
    "\n",
    "    def parse_csv(self,value):\n",
    "        columns = tf.io.decode_csv(value, record_defaults=self.record_defaults)\n",
    "        features = dict(zip(self.column_names, columns))\n",
    "        for col in self.drop_columns :\n",
    "            features.pop(col)\n",
    "        # for col in self.sequental_columns:\n",
    "        #     features[col]=tf.strings.to_number(tf.strings.split(features[col], sep='|').values, out_type=tf.dtypes.int64)\n",
    "        ctr = features.pop('finalClickFlag')\n",
    "        cvr = features.pop('pay_flag')\n",
    "        ctr = tf.to_float(tf.reshape(ctr, [1]))\n",
    "        cvr = tf.to_float(tf.reshape(cvr, [1]))\n",
    "        return features, {'ctr': ctr, 'cvr': cvr}\n",
    "\n",
    "record_defaults=[]\n",
    "column_names=[]\n",
    "drop_columns=[\"uid\"]\n",
    "train_list=glob.glob(\"./data/train/*.csv\")\n",
    "\n",
    "tmp=CSVDataSet(train_list,record_defaults,column_names,drop_columns)\n",
    "ds=tmp.getds()\n"
   ]
  },
  {
   "cell_type": "code",
   "execution_count": null,
   "id": "ad6d8571-333b-4899-8405-0cc5f08a8ecd",
   "metadata": {},
   "outputs": [],
   "source": [
    "\n",
    "def csv2dataset(pattern,n_readers=5,buffer_size=102400):\n",
    "    filelist=glob.glob(patter)\n",
    "    filename_dataset = tf.data.Dataset.list_files(train_list)\n",
    "    dataset = filename_dataset.interleave(\n",
    "        lambda filename: tf.data.TextLineDataset(filename).skip(1).shuffle(buffer_size),\n",
    "        #并行数为5，默认一次从并行数中取出一条数据\n",
    "        cycle_length = n_readers\n",
    "    )\n",
    "    dataset = dataset.map(parse_csv, num_parallel_calls=8)"
   ]
  },
  {
   "cell_type": "code",
   "execution_count": 38,
   "id": "3b6d5943-183f-4445-ab18-3b77a0e1850a",
   "metadata": {},
   "outputs": [
    {
     "name": "stdout",
     "output_type": "stream",
     "text": [
      "WARNING:tensorflow:From /opt/miniconda3/envs/tensorflow/lib/python3.9/site-packages/tensorflow/python/autograph/pyct/static_analysis/liveness.py:83: Analyzer.lamba_check (from tensorflow.python.autograph.pyct.static_analysis.liveness) is deprecated and will be removed after 2023-09-23.\n",
      "Instructions for updating:\n",
      "Lambda fuctions will be no more assumed to be used in the statement where they are used, or at least in the same block. https://github.com/tensorflow/tensorflow/issues/56089\n",
      "b'262701464776869888,48359979,0,1,17,\\xe5\\x84\\xbf\\xe7\\xab\\xa5,PAY,1,28,21,11,0,0,27,0,24,30,32,18,38,26,19,11,0,0,0,6,0,0,0,3,12,10,7,7,7,6,0,0,0,0,0,0,0,0,0,0,0,0,0,0,0,1'\n",
      "b'738426832184935424,2344032245,3,0,134,\\xe5\\x84\\xbf\\xe7\\xab\\xa5,PAY,1,11,33,26,0,0,0,0,35,33,35,25,42,0,39,14,1,1,32,11,0,15,12,24,12,10,7,7,7,6,12,12,12,42,1,12,12,41,32,37,1,0,1,0,0,1'\n",
      "b'404959229649101824,1149818388,3,1,7,\\xe5\\x84\\xbf\\xe7\\xab\\xa5,PAY,1,2,7,6,0,12,0,0,34,31,34,17,41,4,33,11,1,0,0,6,0,0,0,17,7,9,21,28,4,2,0,0,0,0,0,0,0,0,0,0,0,0,0,0,0,1'\n",
      "b'738426832184935424,80864173,0,2,0,\\xe9\\x9f\\xb3\\xe4\\xb9\\x90,FREE,1,22,34,30,0,42,31,0,39,44,46,44,40,17,48,40,0,0,0,6,0,0,0,23,0,34,21,0,36,0,0,0,0,0,0,0,0,0,0,0,0,0,0,1,0,1'\n",
      "b'262701464776869888,2226801868,1,0,1,\\xe5\\x84\\xbf\\xe7\\xab\\xa5,FREE,1,28,39,30,22,34,33,0,40,45,47,44,38,25,49,37,0,0,0,6,2,9,5,27,25,37,16,20,31,22,6,6,7,19,1,7,7,22,35,25,11,6,4,1,0,1'\n"
     ]
    }
   ],
   "source": [
    "filename_dataset = tf.data.Dataset.list_files(train_list)\n",
    "n_readers = 5\n",
    "dataset = filename_dataset.interleave(\n",
    "    #skip()跳过第一行header\n",
    "    lambda filename: tf.data.TextLineDataset(filename).skip(1).shuffle(shuffle_buffer_size),\n",
    "    #并行数为5，默认一次从并行数中取出一条数据\n",
    "    cycle_length = n_readers\n",
    ")\n",
    "\n",
    "for line in dataset.take(5):\n",
    "    # print(line.numpy())"
   ]
  },
  {
   "cell_type": "code",
   "execution_count": 90,
   "id": "cb1bedf2-41eb-4004-8284-43e435129475",
   "metadata": {},
   "outputs": [],
   "source": [
    "ans=tf.io.decode_csv(b'404959229649101824,1149818388,',[\"1\",\"1\",\"\"])"
   ]
  },
  {
   "cell_type": "code",
   "execution_count": 70,
   "id": "1f1aeacc-b6c3-402a-8c8c-13be5c7ce74e",
   "metadata": {},
   "outputs": [
    {
     "data": {
      "text/plain": [
       "<tf.Tensor: shape=(2,), dtype=float32, numpy=array([1231., 1231.], dtype=float32)>"
      ]
     },
     "execution_count": 70,
     "metadata": {},
     "output_type": "execute_result"
    }
   ],
   "source": [
    "tf.strings.to_number(tf.strings.split(ans[2], sep='|'))"
   ]
  },
  {
   "cell_type": "code",
   "execution_count": null,
   "id": "7b6d95fa-c66d-49f5-9f9c-ec07c0ef96c5",
   "metadata": {},
   "outputs": [],
   "source": []
  }
 ],
 "metadata": {
  "kernelspec": {
   "display_name": "tensorflow",
   "language": "python",
   "name": "tensorflow"
  },
  "language_info": {
   "codemirror_mode": {
    "name": "ipython",
    "version": 3
   },
   "file_extension": ".py",
   "mimetype": "text/x-python",
   "name": "python",
   "nbconvert_exporter": "python",
   "pygments_lexer": "ipython3",
   "version": "3.9.16"
  }
 },
 "nbformat": 4,
 "nbformat_minor": 5
}
