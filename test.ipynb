{
 "cells": [
  {
   "cell_type": "code",
   "execution_count": 2,
   "id": "b6513b76-34bd-4c1d-b584-d9f8a8991b12",
   "metadata": {
    "tags": []
   },
   "outputs": [],
   "source": [
    "from layers import *\n",
    "import tensorflow as tf"
   ]
  },
  {
   "cell_type": "code",
   "execution_count": 5,
   "id": "b5d568ba-fcb5-46e2-95ce-e45cf69aaeb7",
   "metadata": {
    "tags": []
   },
   "outputs": [
    {
     "data": {
      "text/plain": [
       "[<tf.Tensor: shape=(64, 256), dtype=float32, numpy=\n",
       " array([[0.09439056, 0.4682368 , 0.14988433, ..., 0.5949478 , 0.5036044 ,\n",
       "         0.57740164],\n",
       "        [0.09439056, 0.4682368 , 0.14988433, ..., 0.5949478 , 0.5036044 ,\n",
       "         0.57740164],\n",
       "        [0.09439056, 0.4682368 , 0.14988433, ..., 0.5949478 , 0.5036044 ,\n",
       "         0.57740164],\n",
       "        ...,\n",
       "        [0.09439056, 0.4682368 , 0.14988433, ..., 0.5949478 , 0.5036044 ,\n",
       "         0.57740164],\n",
       "        [0.09439044, 0.46823692, 0.14988431, ..., 0.5949477 , 0.5036043 ,\n",
       "         0.57740164],\n",
       "        [0.09439044, 0.46823692, 0.14988431, ..., 0.5949477 , 0.5036043 ,\n",
       "         0.57740164]], dtype=float32)>,\n",
       " <tf.Tensor: shape=(64, 256), dtype=float32, numpy=\n",
       " array([[0.06685781, 0.483452  , 0.1261303 , ..., 1.3969997 , 0.4793982 ,\n",
       "         0.34164172],\n",
       "        [0.06685781, 0.483452  , 0.1261303 , ..., 1.3969997 , 0.4793982 ,\n",
       "         0.34164172],\n",
       "        [0.06685781, 0.483452  , 0.1261303 , ..., 1.3969997 , 0.4793982 ,\n",
       "         0.34164172],\n",
       "        ...,\n",
       "        [0.06685781, 0.483452  , 0.1261303 , ..., 1.3969997 , 0.4793982 ,\n",
       "         0.34164172],\n",
       "        [0.06685772, 0.48345208, 0.12613027, ..., 1.3969997 , 0.4793979 ,\n",
       "         0.34164172],\n",
       "        [0.06685772, 0.48345208, 0.12613027, ..., 1.3969997 , 0.4793979 ,\n",
       "         0.34164172]], dtype=float32)>]"
      ]
     },
     "execution_count": 5,
     "metadata": {},
     "output_type": "execute_result"
    }
   ],
   "source": [
    "from layers import *\n",
    "import tensorflow as tf\n",
    "\n",
    "bs=64\n",
    "field_num=23\n",
    "emb_size=16\n",
    "inputs=tf.ones((bs,field_num,emb_size))\n",
    "MLP(out_dim=3,hidden_units=[128,64])(inputs)\n",
    "SELayer([128])(inputs)\n",
    "\n",
    "## Dinattention\n",
    "query=tf.ones((bs,emb_size))\n",
    "key=tf.ones((bs,10,emb_size))\n",
    "seqlen=tf.ones((bs))*5\n",
    "DinAttention()(key,query,seqlen)\n",
    "\n",
    "## ppnet\n",
    "inputs=tf.ones((bs,1288))\n",
    "gate_emb=tf.ones((bs,128))\n",
    "PPNetLayer(out_dim=64,hidden_units=[128],gate_hidden_units=[128,128])(inputs,gate_emb)\n",
    "\n",
    "## fibi\n",
    "inputs=tf.ones((64,23,16))\n",
    "BilinearInteraction()(inputs)\n",
    "\n",
    "## cin\n",
    "inputs=tf.ones((64,23,16))\n",
    "CinLayer([128,128])(inputs)\n",
    "\n",
    "## Fm\n",
    "inputs=tf.ones((64,23,16))\n",
    "FMCrossLayer()(inputs)\n",
    "\n",
    "## MMoE\n",
    "inputs=tf.ones((bs,1288))\n",
    "MMoELayer(4,[256],2,[128])(inputs)\n",
    "\n",
    "## PLE\n",
    "inputs=tf.ones((bs,1288))\n",
    "PLELayer(1,4,[256],2,[128],1)(inputs)\n"
   ]
  },
  {
   "cell_type": "code",
   "execution_count": 63,
   "id": "62fff843-c0e7-47c0-9c96-a6e8a08d2fec",
   "metadata": {
    "tags": []
   },
   "outputs": [],
   "source": [
    "a=tf.ones((64,12))\n",
    "b=tf.ones((64,12))\n"
   ]
  },
  {
   "cell_type": "code",
   "execution_count": 67,
   "id": "fe58d9f9-e8cc-4838-a5f9-08480528f64f",
   "metadata": {
    "tags": []
   },
   "outputs": [
    {
     "name": "stdout",
     "output_type": "stream",
     "text": [
      "253 23\n"
     ]
    },
    {
     "data": {
      "text/plain": [
       "<tf.Tensor: shape=(64, 253, 16), dtype=float32, numpy=\n",
       "array([[[-1.4013947 , -1.7496046 ,  0.16214529, ..., -0.00360952,\n",
       "          1.4629452 , -0.9206601 ],\n",
       "        [ 0.63977605, -0.08518679, -1.070574  , ..., -0.27574095,\n",
       "          1.4065473 , -0.88943446],\n",
       "        [ 1.4094085 ,  0.5798226 , -0.78099006, ..., -1.602323  ,\n",
       "         -0.9113116 ,  0.8146272 ],\n",
       "        ...,\n",
       "        [-1.7533984 ,  0.5607278 , -1.5570295 , ...,  0.4228723 ,\n",
       "         -0.5006953 , -0.37363836],\n",
       "        [-0.33253673,  0.80279505, -0.00845532, ...,  2.1672962 ,\n",
       "          0.6889852 ,  0.852971  ],\n",
       "        [ 0.274296  , -1.5495188 , -0.55503577, ..., -1.2353386 ,\n",
       "          0.00488108,  0.5857283 ]],\n",
       "\n",
       "       [[-1.4013947 , -1.7496046 ,  0.16214529, ..., -0.00360952,\n",
       "          1.4629452 , -0.9206601 ],\n",
       "        [ 0.63977605, -0.08518679, -1.070574  , ..., -0.27574095,\n",
       "          1.4065473 , -0.88943446],\n",
       "        [ 1.4094085 ,  0.5798226 , -0.78099006, ..., -1.602323  ,\n",
       "         -0.9113116 ,  0.8146272 ],\n",
       "        ...,\n",
       "        [-1.7533984 ,  0.5607278 , -1.5570295 , ...,  0.4228723 ,\n",
       "         -0.5006953 , -0.37363836],\n",
       "        [-0.33253673,  0.80279505, -0.00845532, ...,  2.1672962 ,\n",
       "          0.6889852 ,  0.852971  ],\n",
       "        [ 0.274296  , -1.5495188 , -0.55503577, ..., -1.2353386 ,\n",
       "          0.00488108,  0.5857283 ]],\n",
       "\n",
       "       [[-1.4013947 , -1.7496046 ,  0.16214529, ..., -0.00360952,\n",
       "          1.4629452 , -0.9206601 ],\n",
       "        [ 0.63977605, -0.08518679, -1.070574  , ..., -0.27574095,\n",
       "          1.4065473 , -0.88943446],\n",
       "        [ 1.4094085 ,  0.5798226 , -0.78099006, ..., -1.602323  ,\n",
       "         -0.9113116 ,  0.8146272 ],\n",
       "        ...,\n",
       "        [-1.7533984 ,  0.5607278 , -1.5570295 , ...,  0.4228723 ,\n",
       "         -0.5006953 , -0.37363836],\n",
       "        [-0.33253673,  0.80279505, -0.00845532, ...,  2.1672962 ,\n",
       "          0.6889852 ,  0.852971  ],\n",
       "        [ 0.274296  , -1.5495188 , -0.55503577, ..., -1.2353386 ,\n",
       "          0.00488108,  0.5857283 ]],\n",
       "\n",
       "       ...,\n",
       "\n",
       "       [[-1.4013947 , -1.7496046 ,  0.16214526, ..., -0.00360954,\n",
       "          1.4629452 , -0.92066014],\n",
       "        [ 0.6397761 , -0.08518696, -1.070574  , ..., -0.27574092,\n",
       "          1.4065473 , -0.8894346 ],\n",
       "        [ 1.4094086 ,  0.5798228 , -0.7809902 , ..., -1.6023228 ,\n",
       "         -0.91131175,  0.81462705],\n",
       "        ...,\n",
       "        [-1.7533984 ,  0.56072783, -1.5570295 , ...,  0.4228723 ,\n",
       "         -0.50069535, -0.3736384 ],\n",
       "        [-0.33253664,  0.8027951 , -0.0084554 , ...,  2.1672964 ,\n",
       "          0.68898535,  0.85297096],\n",
       "        [ 0.274296  , -1.5495186 , -0.5550357 , ..., -1.2353388 ,\n",
       "          0.0048812 ,  0.5857282 ]],\n",
       "\n",
       "       [[-1.4013947 , -1.7496046 ,  0.16214526, ..., -0.00360954,\n",
       "          1.4629452 , -0.92066014],\n",
       "        [ 0.6397761 , -0.08518696, -1.070574  , ..., -0.27574092,\n",
       "          1.4065473 , -0.8894346 ],\n",
       "        [ 1.4094086 ,  0.5798228 , -0.7809902 , ..., -1.6023228 ,\n",
       "         -0.91131175,  0.81462705],\n",
       "        ...,\n",
       "        [-1.7533984 ,  0.56072783, -1.5570295 , ...,  0.4228723 ,\n",
       "         -0.50069535, -0.3736384 ],\n",
       "        [-0.33253664,  0.8027951 , -0.0084554 , ...,  2.1672964 ,\n",
       "          0.68898535,  0.85297096],\n",
       "        [ 0.274296  , -1.5495186 , -0.5550357 , ..., -1.2353388 ,\n",
       "          0.0048812 ,  0.5857282 ]],\n",
       "\n",
       "       [[-1.4013947 , -1.7496046 ,  0.16214526, ..., -0.00360954,\n",
       "          1.4629452 , -0.92066014],\n",
       "        [ 0.6397761 , -0.08518696, -1.070574  , ..., -0.27574092,\n",
       "          1.4065473 , -0.8894346 ],\n",
       "        [ 1.4094086 ,  0.5798228 , -0.7809902 , ..., -1.6023228 ,\n",
       "         -0.91131175,  0.81462705],\n",
       "        ...,\n",
       "        [-1.7533984 ,  0.56072783, -1.5570295 , ...,  0.4228723 ,\n",
       "         -0.50069535, -0.3736384 ],\n",
       "        [-0.33253664,  0.8027951 , -0.0084554 , ...,  2.1672964 ,\n",
       "          0.68898535,  0.85297096],\n",
       "        [ 0.274296  , -1.5495186 , -0.5550357 , ..., -1.2353388 ,\n",
       "          0.0048812 ,  0.5857282 ]]], dtype=float32)>"
      ]
     },
     "execution_count": 67,
     "metadata": {},
     "output_type": "execute_result"
    }
   ],
   "source": [
    "inputs=tf.ones((64,23,16))\n",
    "obj=BilinearInteraction()\n",
    "obj(inputs)"
   ]
  },
  {
   "cell_type": "code",
   "execution_count": 20,
   "id": "b7ff2293-e571-405f-b3f6-6a38da7bcc7b",
   "metadata": {
    "tags": []
   },
   "outputs": [],
   "source": [
    "a=tf.ones((64,12,16))\n",
    "b=tf.concat([tf.ones((1,16,16))*i for i in range(12)],axis=0)\n",
    "ans=tf.einsum(\"ijk,jkk->ijk\",a,b)"
   ]
  },
  {
   "cell_type": "code",
   "execution_count": 21,
   "id": "cdb3a2b2-1f61-4a9c-8f23-254065030a32",
   "metadata": {
    "tags": []
   },
   "outputs": [
    {
     "data": {
      "text/plain": [
       "TensorShape([64, 12, 16])"
      ]
     },
     "execution_count": 21,
     "metadata": {},
     "output_type": "execute_result"
    }
   ],
   "source": [
    "ans.shape"
   ]
  },
  {
   "cell_type": "code",
   "execution_count": 30,
   "id": "b9268211-8671-4a81-b8df-950ac66c2cfe",
   "metadata": {
    "tags": []
   },
   "outputs": [
    {
     "name": "stdout",
     "output_type": "stream",
     "text": [
      "0 1\n",
      "0 2\n",
      "1 2\n"
     ]
    }
   ],
   "source": [
    "import itertools\n",
    "n=3\n",
    "for i,j in itertools.combinations(range(n), 2):\n",
    "    print(i,j)"
   ]
  },
  {
   "cell_type": "code",
   "execution_count": 7,
   "id": "2f9227a4-1d8f-4aad-858c-02a6e9bfeed0",
   "metadata": {
    "tags": []
   },
   "outputs": [
    {
     "ename": "AttributeError",
     "evalue": "module 'tensorflow._api.v2.nn' has no attribute 'rnn_cell'",
     "output_type": "error",
     "traceback": [
      "\u001b[0;31m---------------------------------------------------------------------------\u001b[0m",
      "\u001b[0;31mAttributeError\u001b[0m                            Traceback (most recent call last)",
      "Cell \u001b[0;32mIn[7], line 1\u001b[0m\n\u001b[0;32m----> 1\u001b[0m \u001b[43mtf\u001b[49m\u001b[38;5;241;43m.\u001b[39;49m\u001b[43mnn\u001b[49m\u001b[38;5;241;43m.\u001b[39;49m\u001b[43mrnn_cell\u001b[49m\n",
      "\u001b[0;31mAttributeError\u001b[0m: module 'tensorflow._api.v2.nn' has no attribute 'rnn_cell'"
     ]
    }
   ],
   "source": [
    "tf.nn.rnn_cell"
   ]
  },
  {
   "cell_type": "code",
   "execution_count": 6,
   "id": "c4578c1c-facf-4f64-bf0d-67c617094e76",
   "metadata": {},
   "outputs": [],
   "source": [
    "import itertools\n",
    "\n",
    "import tensorflow as tf\n",
    "from tensorflow.keras import layers\n",
    "\n",
    "class DynamicMultiRNN(layers.Layer):\n",
    "    def __init__(self, num_units=None, rnn_type='LSTM', return_sequence=True, num_layers=2, num_residual_layers=1, dropout_rate=0.2,\n",
    "                 forget_bias=1.0, **kwargs):\n",
    "\n",
    "        self.num_units = num_units\n",
    "        self.return_sequence = return_sequence\n",
    "        self.rnn_type = rnn_type\n",
    "        self.num_layers = num_layers\n",
    "        self.num_residual_layers = num_residual_layers\n",
    "        self.dropout = dropout_rate\n",
    "        self.forget_bias = forget_bias\n",
    "        super(DynamicMultiRNN, self).__init__(**kwargs)\n",
    "\n",
    "    def build(self, input_shape):\n",
    "        # Create a trainable weight variable for this layer.\n",
    "        input_seq_shape = input_shape[0]\n",
    "        if self.num_units is None:\n",
    "            self.num_units = input_seq_shape.as_list()[-1]\n",
    "        if self.rnn_type == \"LSTM\":\n",
    "            single_cell = tf.nn.rnn_cell.BasicLSTMCell(self.num_units, forget_bias=self.forget_bias)\n",
    "        elif self.rnn_type == \"GRU\":\n",
    "            single_cell = tf.nn.rnn_cell.GRUCell(self.num_units)\n",
    "        else:\n",
    "            raise ValueError(\"Unknown unit type %s!\" % self.rnn_type)\n",
    "        dropout = self.dropout if tf.keras.backend.learning_phase() == 1 else 0\n",
    "        single_cell = tf.nn.rnn_cell.DropoutWrapper(cell=single_cell, input_keep_prob=(1.0 - dropout))\n",
    "        cell_list = []\n",
    "        for i in range(self.num_layers):\n",
    "            residual = (i >= self.num_layers - self.num_residual_layers)\n",
    "            if residual:\n",
    "                single_cell_residual = tf.nn.rnn_cell.ResidualWrapper(single_cell)\n",
    "                cell_list.append(single_cell_residual)\n",
    "            else:\n",
    "                cell_list.append(single_cell)\n",
    "        if len(cell_list) == 1:\n",
    "            self.final_cell = cell_list[0]\n",
    "        else:\n",
    "            self.final_cell = tf.nn.rnn_cell.MultiRNNCell(cell_list)\n",
    "        super(DynamicMultiRNN, self).build(input_shape)\n",
    "\n",
    "    def call(self, input_list, mask=None, training=None):\n",
    "        rnn_input, sequence_length = input_list\n",
    "        with tf.name_scope(\"rnn\"), tf.variable_scope(\"rnn\", reuse=tf.AUTO_REUSE):\n",
    "            rnn_output, hidden_state = tf.nn.dynamic_rnn(self.final_cell, inputs=rnn_input, sequence_length=tf.squeeze(sequence_length),\n",
    "                                                         dtype=tf.float32, scope=self.name)\n",
    "        if self.return_sequence:\n",
    "            return rnn_output\n",
    "        else:\n",
    "            return tf.expand_dims(hidden_state, axis=1)\n",
    "\n",
    "    def compute_output_shape(self, input_shape):\n",
    "        rnn_input_shape = input_shape[0]\n",
    "        if self.return_sequence:\n",
    "            return rnn_input_shape\n",
    "        else:\n",
    "            return (None, 1, rnn_input_shape[2])\n",
    "\n",
    "    def get_config(self, ):\n",
    "        config = {'num_units': self.num_units, 'rnn_type': self.rnn_type, 'return_sequence':self.return_sequence, 'num_layers': self.num_layers,\n",
    "                  'num_residual_layers': self.num_residual_layers, 'dropout_rate': self.dropout}\n",
    "        base_config = super(DynamicMultiRNN, self).get_config()\n",
    "        return dict(list(base_config.items()) + list(config.items()))"
   ]
  },
  {
   "cell_type": "code",
   "execution_count": null,
   "id": "57c90246-167c-481f-95ee-85230670edf2",
   "metadata": {},
   "outputs": [],
   "source": []
  }
 ],
 "metadata": {
  "kernelspec": {
   "display_name": "tfv2",
   "language": "python",
   "name": "tfv2"
  },
  "language_info": {
   "codemirror_mode": {
    "name": "ipython",
    "version": 3
   },
   "file_extension": ".py",
   "mimetype": "text/x-python",
   "name": "python",
   "nbconvert_exporter": "python",
   "pygments_lexer": "ipython3",
   "version": "3.9.18"
  }
 },
 "nbformat": 4,
 "nbformat_minor": 5
}
